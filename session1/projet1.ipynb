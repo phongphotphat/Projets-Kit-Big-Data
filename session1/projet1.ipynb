{
 "cells": [
  {
   "cell_type": "markdown",
   "metadata": {},
   "source": [
    "# Projet Maison 1\n",
    "\n",
    "\n",
    "Ecrire une fonction `count_words(text)` qui :\n",
    "1. Extrait tous les mots d'un texte (N.B. on pourra utiliser la fonction `findall()` du module **re** et le motif `\"[A-Za-z]+\"`, voir https://docs.python.org/3.9/library/re.html#module-contents)\n",
    "2. Retourne un dictionnaire avec pour chaque mot le nombre d'occurrences du mot dans le texte.\n",
    "\n",
    "Avec le texte `\"A bon chat bon rat.\"` la fonction doit retourner : `{'A':1, 'bon':2, 'chat':1, 'rat':1}`.\n",
    "\n",
    "**Important : le notebook doit être entièrement exécuté et déposé sur *github* (donc avec les résultats des tests).**"
   ]
  },
  {
   "cell_type": "code",
   "execution_count": null,
   "metadata": {},
   "outputs": [],
   "source": [
    "# a compléter\n",
    "from collections import Counter\n",
    "\n",
    "def count_words(text):\n",
    "    dico = {}\n",
    "    return dico"
   ]
  },
  {
   "cell_type": "code",
   "execution_count": null,
   "metadata": {},
   "outputs": [],
   "source": [
    "print(count_words(\"A bon chat bon rat.\") == {'A':1, 'bon':2, 'chat':1, 'rat':1})"
   ]
  },
  {
   "cell_type": "code",
   "execution_count": null,
   "metadata": {},
   "outputs": [],
   "source": [
    "# tests\n",
    "import unittest\n",
    "\n",
    "text = open(\"alice_in_wonderland.txt\").read()\n",
    "\n",
    "class Session1Test(unittest.TestCase):\n",
    "    \n",
    "    def test_queen(self):\n",
    "        dico = count_words(text)\n",
    "        self.assertEqual(dico[\"Queen\"], 74)\n",
    "        \n",
    "    def test_alice(self):\n",
    "        dico = count_words(text)\n",
    "        self.assertEqual(dico[\"Alice\"], 396)\n",
    "        \n",
    "    def test_rabbit(self):\n",
    "        dico = count_words(text)\n",
    "        self.assertEqual(dico[\"Rabbit\"], 45)"
   ]
  },
  {
   "cell_type": "code",
   "execution_count": null,
   "metadata": {},
   "outputs": [],
   "source": [
    "# run tests\n",
    "def run_tests():\n",
    "    test_suite = unittest.makeSuite(Session1Test)\n",
    "    runner = unittest.TextTestRunner(verbosity=2)\n",
    "    runner.run(test_suite)\n",
    "    \n",
    "run_tests()"
   ]
  }
 ],
 "metadata": {
  "kernelspec": {
   "display_name": "Python 3 (ipykernel)",
   "language": "python",
   "name": "python3"
  },
  "language_info": {
   "codemirror_mode": {
    "name": "ipython",
    "version": 3
   },
   "file_extension": ".py",
   "mimetype": "text/x-python",
   "name": "python",
   "nbconvert_exporter": "python",
   "pygments_lexer": "ipython3",
   "version": "3.9.12"
  }
 },
 "nbformat": 4,
 "nbformat_minor": 4
}
