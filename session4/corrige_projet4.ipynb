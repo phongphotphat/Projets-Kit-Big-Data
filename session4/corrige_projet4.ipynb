{
 "cells": [
  {
   "cell_type": "markdown",
   "metadata": {},
   "source": [
    "# Projet maison n° 4"
   ]
  },
  {
   "cell_type": "code",
   "execution_count": 1,
   "metadata": {},
   "outputs": [],
   "source": [
    "# imports\n",
    "import requests\n",
    "from bs4 import BeautifulSoup"
   ]
  },
  {
   "cell_type": "markdown",
   "metadata": {},
   "source": [
    "**Partie A**\n",
    "\n",
    "Ecrire une fonction `get_prices_from_url()` qui extrait des informations à partir des 2 pages ci-dessous.\n",
    "\n",
    "```python\n",
    "URL_PAGE2 = \"https://kim.fspot.org/cours/page2.html\"\n",
    "URL_PAGE3 = \"https://kim.fspot.org/cours/page3.html\"\n",
    "```\n",
    "\n",
    "Avec `URL_PAGE2`, la fonction doit retourner :\n",
    "\n",
    "```json\n",
    "{'Personal': {'price': '$5', 'storage': '1GB', 'databases': 1},\n",
    " 'Small Business': {'price': '$25', 'storage': '10GB', 'databases': 5},\n",
    " 'Enterprise': {'price': '$45', 'storage': '100GB', 'databases': 25}}\n",
    "```"
   ]
  },
  {
   "cell_type": "code",
   "execution_count": 2,
   "metadata": {},
   "outputs": [],
   "source": [
    "# partie A\n",
    "URL_PAGE2 = \"https://kim.fspot.org/cours/page2.html\"\n",
    "URL_PAGE3 = \"https://kim.fspot.org/cours/page3.html\"\n",
    "\n",
    "def get_prices_from_url(url):\n",
    "    res = requests.get(url)\n",
    "    soup = BeautifulSoup(res.content, 'html.parser')\n",
    "    prices = {}\n",
    "    \n",
    "    pricing_table = soup.find_all(class_=\"pricing-table\")\n",
    "    for t in pricing_table:\n",
    "        product_name = t.find(\"h2\").text\n",
    "        price = t.find(class_=\"pricing-table-price\").text.strip().split()[0]\n",
    "        storage, db = t.select(\".pricing-table-list li\")[3:5]\n",
    "        prices[product_name] = {\n",
    "            'price': price,\n",
    "            'storage': storage.text.split()[0],\n",
    "            'databases': int(db.text.split()[0]),\n",
    "        }\n",
    "    \n",
    "    return prices"
   ]
  },
  {
   "cell_type": "markdown",
   "metadata": {},
   "source": [
    "**Partie B**\n",
    "\n",
    "*L'abus d'alcool est dangereux pour la santé, à consommer avec modération.*\n",
    "\n",
    "1) Ecrire une fonction `extract_beer_infos()` qui extrait des informations sur une bière du site de bières *beowulf*.\n",
    "\n",
    "Exemple d'URL: https://www.beerwulf.com/fr-fr/p/bieres/cuvee-des-trolls.33 \n",
    "\n",
    "La fonction doit retourner :\n",
    "```json\n",
    "{'Nom': 'Cuvée des Trolls',\n",
    " 'Style': 'Bière Blonde',\n",
    " 'Contenu': 25,\n",
    " 'Degré d’alcool': 7.0,\n",
    " 'Origine': 'Belgique',\n",
    " 'Brasseur': 'Brasserie Dubuisson Freres'}\n",
    "```\n",
    "\n",
    "2) L'URL ci-après retourne un JSON avec une liste de bières :\n",
    "\n",
    "```python\n",
    "URL_BEERLIST_FRANCE = \"https://www.beerwulf.com/fr-FR/api/search/searchProducts?country=France&container=Bouteille\"\n",
    "```\n",
    "\n",
    "Ecrire une fonction `extract_beer_list_infos(url)` qui prend en argument cet URL et retourne les informations sur une liste de bières du site *beowulf*.\n",
    "\n",
    "Cette fonction doit retourner la liste des informations obtenues par la fonction précédemment définie `extract_beer_infos()`.\n",
    "\n",
    "Exemple de retour :\n",
    "\n",
    "```json\n",
    "[{'Nom':'Desperados','Style':'Lager','Contenu':33,'Degré d’alcool':5.9,'Origine':'France','Brasseur':'Desperados'},\n",
    "{'Nom':'La Lager Sans Gluten de Vézelay','Style':'Lager','Contenu':25,'Degré d’alcool':4.0,'Origine':'France','Brasseur':'Brasserie de Vézelay'},\n",
    "{'Nom':'Mélusine Bio','Style':'Pale Ale','Contenu': 33,'Degré d’alcool': 5.0,'Origine':'France','Brasseur':'Mélusine'},\n",
    "{'Nom':'La Parisienne Le Titi Parisien','Style':'IPA','Contenu':33,'Degré d’alcool':5.5,'Origine':'France','Brasseur': 'Brasserie la Parisienne'},\n",
    "{'Nom':'Brasserie De Sutter Brin de Folie','Style':'Bière Blonde','Contenu': 33,'Degré d’alcool':6.5,'Origine':'France','Brasseur':'Brasserie de Sutter'}]\n",
    "```\n",
    "\n",
    "**Facultatif**\n",
    "\n",
    "Chercher comment optimiser cette fonction en utilisant `multiprocessing.Pool()` pour paralléliser les accès web."
   ]
  },
  {
   "cell_type": "code",
   "execution_count": 3,
   "metadata": {},
   "outputs": [],
   "source": [
    "# partie B-1\n",
    "def extract_beer_infos(url):\n",
    "   \n",
    "    # get soup from url\n",
    "    res = requests.get(url)\n",
    "    soup = BeautifulSoup(res.content, 'html.parser')\n",
    "    \n",
    "   # beer_info\n",
    "    beer_infos = {}\n",
    "    \n",
    "    # Extract name:\n",
    "    beer_infos[\"Nom\"] = soup.find(\"h1\").text\n",
    "    \n",
    "    # Extract infos:\n",
    "    for dt in soup.find_all('dt'):\n",
    "        dd = dt.find_next()\n",
    "        if dt.text in ['Style', 'Contenu', 'Degré d’alcool', 'Origine', 'Brasseur']:\n",
    "            value = dd.text.strip(\"\\n\\r \")\n",
    "            if dt.text == \"Contenu\":\n",
    "                value = int(value[:3])\n",
    "            elif dt.text == \"Degré d’alcool\":\n",
    "                value = float(value[:-1].replace(\",\", \".\"))\n",
    "            beer_infos[dt.text] = value\n",
    "                \n",
    "    return beer_infos"
   ]
  },
  {
   "cell_type": "code",
   "execution_count": 4,
   "metadata": {},
   "outputs": [],
   "source": [
    "# partie B-2\n",
    "URL_BEERLIST_FRANCE = \"https://www.beerwulf.com/fr-FR/api/search/searchProducts?country=Belgique&container=Bouteille\"\n",
    "\n",
    "def extract_beer_list_infos(url):\n",
    "    res = requests.get(url).json()\n",
    "    beer_pages = ['https://www.beerwulf.com' + item['contentReference'] for item in res['items']]\n",
    "    \n",
    "    # Sequential version (slow):\n",
    "    beers = [extract_beer_infos(u) for u in beer_pages]\n",
    "    \n",
    "    # Parallel version (faster):\n",
    "    # Windows workaround\n",
    "    # see: https://medium.com/@grvsinghal/speed-up-your-python-code-using-multiprocessing-on-windows-and-jupyter-or-ipython-2714b49d6fac\n",
    "    #\n",
    "    # from multiprocessing import Pool\n",
    "    # with Pool() as p:\n",
    "    #    beers = p.map(extract_beer_infos, beer_pages)\n",
    "    \n",
    "    return beers"
   ]
  },
  {
   "cell_type": "code",
   "execution_count": 5,
   "metadata": {},
   "outputs": [],
   "source": [
    "import unittest\n",
    "\n",
    "class Session4Tests(unittest.TestCase):\n",
    "    def test_01_get_prices_from_url_page2(self):\n",
    "        prices = get_prices_from_url(URL_PAGE2)\n",
    "        # We should have found 3 products:\n",
    "        self.assertIsInstance(prices, dict)\n",
    "        self.assertEqual(len(prices), 3)\n",
    "        self.assertIn('Personal', prices)\n",
    "        self.assertIn('Small Business', prices)\n",
    "        self.assertIn('Enterprise', prices)\n",
    "        \n",
    "        personal = prices['Personal']\n",
    "        self.assertIn('price', personal)\n",
    "        self.assertIn('storage', personal)\n",
    "        self.assertIn('databases', personal)\n",
    "        self.assertEqual(personal['price'], '$5')\n",
    "        self.assertEqual(personal['storage'], '1GB')\n",
    "        self.assertEqual(personal['databases'], 1)\n",
    "        \n",
    "    def test_02_get_prices_from_url_page3(self):\n",
    "        prices = get_prices_from_url(URL_PAGE3)\n",
    "        self.assertIsInstance(prices, dict)\n",
    "        self.assertEqual(len(prices), 4)\n",
    "        self.assertEqual(\n",
    "            prices['Privilege'],\n",
    "            {'databases': 100, 'price': '$99', 'storage': '1TB'}\n",
    "        )\n",
    "    \n",
    "    def test_03_extract_beer_list_infos(self):\n",
    "        infos = extract_beer_list_infos(URL_BEERLIST_FRANCE)\n",
    "        self.assertIsInstance(infos, list)\n",
    "        self.assertGreater(len(infos), 1)\n",
    "        # Contenu = int\n",
    "        # Degré d’alcool = float\n",
    "        for beer in infos:\n",
    "            self.assertIsInstance(beer['Nom'], str)\n",
    "            self.assertIsInstance(beer['Style'], str)\n",
    "            self.assertIsInstance(beer['Contenu'], int)\n",
    "            self.assertIsInstance(beer['Degré d’alcool'], float)\n",
    "            self.assertEqual(beer['Origine'], \"Belgique\")\n",
    "            self.assertIsInstance(beer['Brasseur'], str)\n",
    "\n",
    "            \n",
    "def run_tests():\n",
    "    test_suite = unittest.makeSuite(Session4Tests)\n",
    "    runner = unittest.TextTestRunner(verbosity=2)\n",
    "    runner.run(test_suite)"
   ]
  },
  {
   "cell_type": "code",
   "execution_count": 6,
   "metadata": {},
   "outputs": [
    {
     "name": "stderr",
     "output_type": "stream",
     "text": [
      "test_01_get_prices_from_url_page2 (__main__.Session4Tests) ... ok\n",
      "test_02_get_prices_from_url_page3 (__main__.Session4Tests) ... ok\n",
      "test_03_extract_beer_list_infos (__main__.Session4Tests) ... ok\n",
      "\n",
      "----------------------------------------------------------------------\n",
      "Ran 3 tests in 29.569s\n",
      "\n",
      "OK\n"
     ]
    }
   ],
   "source": [
    "if __name__ == '__main__':\n",
    "    run_tests()"
   ]
  },
  {
   "cell_type": "code",
   "execution_count": null,
   "metadata": {},
   "outputs": [],
   "source": []
  }
 ],
 "metadata": {
  "kernelspec": {
   "display_name": "Python 3",
   "language": "python",
   "name": "python3"
  },
  "language_info": {
   "codemirror_mode": {
    "name": "ipython",
    "version": 3
   },
   "file_extension": ".py",
   "mimetype": "text/x-python",
   "name": "python",
   "nbconvert_exporter": "python",
   "pygments_lexer": "ipython3",
   "version": "3.8.10"
  }
 },
 "nbformat": 4,
 "nbformat_minor": 4
}
